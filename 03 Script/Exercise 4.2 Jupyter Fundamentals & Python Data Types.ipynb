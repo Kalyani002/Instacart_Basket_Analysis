{
 "cells": [
  {
   "cell_type": "code",
   "execution_count": 1,
   "id": "4c4aa950-dbed-4e63-9b3c-3fcb10d3e425",
   "metadata": {},
   "outputs": [],
   "source": [
    "# Import Libraries\n",
    "import pandas as pd\n",
    "import numpy as np\n",
    "import os"
   ]
  },
  {
   "cell_type": "markdown",
   "id": "04917738-8682-48ba-8337-62316b7ac088",
   "metadata": {},
   "source": [
    "# Working with Python Data Types3\n",
    "#3 ways of reaching to 100"
   ]
  },
  {
   "cell_type": "code",
   "execution_count": 2,
   "id": "bcf36183-eac8-4896-8210-8c8f6ac9329f",
   "metadata": {},
   "outputs": [],
   "source": [
    "a=50"
   ]
  },
  {
   "cell_type": "code",
   "execution_count": 3,
   "id": "6b89d2c1-2cba-4850-b457-b64fdd4ebe76",
   "metadata": {},
   "outputs": [
    {
     "data": {
      "text/plain": [
       "50"
      ]
     },
     "execution_count": 3,
     "metadata": {},
     "output_type": "execute_result"
    }
   ],
   "source": [
    "a"
   ]
  },
  {
   "cell_type": "code",
   "execution_count": 4,
   "id": "347a7e36-04b3-48eb-8121-0a6c43790678",
   "metadata": {},
   "outputs": [],
   "source": [
    "b=50"
   ]
  },
  {
   "cell_type": "code",
   "execution_count": 5,
   "id": "b45564c3-6fc9-4e44-8564-8aab253d086b",
   "metadata": {},
   "outputs": [
    {
     "data": {
      "text/plain": [
       "50"
      ]
     },
     "execution_count": 5,
     "metadata": {},
     "output_type": "execute_result"
    }
   ],
   "source": [
    "b"
   ]
  },
  {
   "cell_type": "code",
   "execution_count": 6,
   "id": "a3190226-69f0-4331-99fd-72c2fd4c92c3",
   "metadata": {},
   "outputs": [
    {
     "data": {
      "text/plain": [
       "100"
      ]
     },
     "execution_count": 6,
     "metadata": {},
     "output_type": "execute_result"
    }
   ],
   "source": [
    "a+b"
   ]
  },
  {
   "cell_type": "code",
   "execution_count": 7,
   "id": "31c7c137-3a84-43d8-a5e1-47434eb892f7",
   "metadata": {},
   "outputs": [
    {
     "data": {
      "text/plain": [
       "50"
      ]
     },
     "execution_count": 7,
     "metadata": {},
     "output_type": "execute_result"
    }
   ],
   "source": [
    "a"
   ]
  },
  {
   "cell_type": "code",
   "execution_count": 8,
   "id": "a895b910-0a3c-4d92-b585-bdb9fbb3dc46",
   "metadata": {},
   "outputs": [
    {
     "data": {
      "text/plain": [
       "100"
      ]
     },
     "execution_count": 8,
     "metadata": {},
     "output_type": "execute_result"
    }
   ],
   "source": [
    "a*2"
   ]
  },
  {
   "cell_type": "code",
   "execution_count": 9,
   "id": "0898ce48-05ef-431f-ac0f-e654282d2274",
   "metadata": {},
   "outputs": [],
   "source": [
    "c=150"
   ]
  },
  {
   "cell_type": "code",
   "execution_count": 10,
   "id": "84c83baa-f539-4780-8e88-694ab980b7a4",
   "metadata": {},
   "outputs": [
    {
     "data": {
      "text/plain": [
       "150"
      ]
     },
     "execution_count": 10,
     "metadata": {},
     "output_type": "execute_result"
    }
   ],
   "source": [
    "c"
   ]
  },
  {
   "cell_type": "code",
   "execution_count": 11,
   "id": "bb62ed97-c955-43ff-91c3-042cd0ab0d28",
   "metadata": {},
   "outputs": [
    {
     "data": {
      "text/plain": [
       "100"
      ]
     },
     "execution_count": 11,
     "metadata": {},
     "output_type": "execute_result"
    }
   ],
   "source": [
    "c-a"
   ]
  },
  {
   "cell_type": "markdown",
   "id": "422f53e2-74b8-4731-ab08-f604a3551b9e",
   "metadata": {},
   "source": [
    "# Floating Point Veriables"
   ]
  },
  {
   "cell_type": "code",
   "execution_count": 12,
   "id": "a016f9c8-cf02-4882-9171-c8b9fc9082ef",
   "metadata": {},
   "outputs": [],
   "source": [
    "d=35.25"
   ]
  },
  {
   "cell_type": "code",
   "execution_count": 13,
   "id": "3354f2b5-45e1-4811-b228-e140b10746c6",
   "metadata": {},
   "outputs": [
    {
     "data": {
      "text/plain": [
       "35.25"
      ]
     },
     "execution_count": 13,
     "metadata": {},
     "output_type": "execute_result"
    }
   ],
   "source": [
    "d"
   ]
  },
  {
   "cell_type": "code",
   "execution_count": 14,
   "id": "c0fa69b4-c2c8-4c59-8e4c-4480d0c09ef7",
   "metadata": {},
   "outputs": [],
   "source": [
    "e=7.22"
   ]
  },
  {
   "cell_type": "code",
   "execution_count": 15,
   "id": "c6c4848e-6bfc-4b74-8f54-d0209594a136",
   "metadata": {},
   "outputs": [
    {
     "data": {
      "text/plain": [
       "7.22"
      ]
     },
     "execution_count": 15,
     "metadata": {},
     "output_type": "execute_result"
    }
   ],
   "source": [
    "e"
   ]
  },
  {
   "cell_type": "code",
   "execution_count": 16,
   "id": "96825a25-f890-41db-bc7e-5461bb1461d7",
   "metadata": {},
   "outputs": [
    {
     "data": {
      "text/plain": [
       "4.882271468144045"
      ]
     },
     "execution_count": 16,
     "metadata": {},
     "output_type": "execute_result"
    }
   ],
   "source": [
    "d/e"
   ]
  },
  {
   "cell_type": "markdown",
   "id": "890c4cf7-c6ef-40e7-b910-46cfe79bfc69",
   "metadata": {},
   "source": [
    "# String operation"
   ]
  },
  {
   "cell_type": "code",
   "execution_count": 17,
   "id": "69827172-f910-42dd-a3dd-2b99d8248e21",
   "metadata": {},
   "outputs": [],
   "source": [
    "f='Hello,'"
   ]
  },
  {
   "cell_type": "code",
   "execution_count": 18,
   "id": "61dd9934-c0b0-4c88-ad51-d29bbcb1e95e",
   "metadata": {},
   "outputs": [],
   "source": [
    "g='Conda'"
   ]
  },
  {
   "cell_type": "code",
   "execution_count": 19,
   "id": "affe2ba9-620c-48a4-a670-5f311e1365fd",
   "metadata": {},
   "outputs": [
    {
     "data": {
      "text/plain": [
       "'Hello,Conda'"
      ]
     },
     "execution_count": 19,
     "metadata": {},
     "output_type": "execute_result"
    }
   ],
   "source": [
    "f+g"
   ]
  },
  {
   "cell_type": "code",
   "execution_count": 29,
   "id": "5e8b7662-7a12-4362-8a93-95288b548466",
   "metadata": {},
   "outputs": [],
   "source": [
    "h='It is a bright sunny day, '"
   ]
  },
  {
   "cell_type": "code",
   "execution_count": 30,
   "id": "d404203f-b957-40ba-876d-f4271d392f12",
   "metadata": {},
   "outputs": [],
   "source": [
    "i='Spring is here'"
   ]
  },
  {
   "cell_type": "code",
   "execution_count": 31,
   "id": "08d834d6-0dcb-432f-806e-a402924d73e7",
   "metadata": {},
   "outputs": [
    {
     "data": {
      "text/plain": [
       "'It is a bright sunny day, Spring is here'"
      ]
     },
     "execution_count": 31,
     "metadata": {},
     "output_type": "execute_result"
    }
   ],
   "source": [
    "h+i"
   ]
  },
  {
   "cell_type": "code",
   "execution_count": null,
   "id": "f293afd7-e3bf-460b-a0e0-ebac2235ecc1",
   "metadata": {},
   "outputs": [],
   "source": []
  }
 ],
 "metadata": {
  "kernelspec": {
   "display_name": "Python 3 (ipykernel)",
   "language": "python",
   "name": "python3"
  },
  "language_info": {
   "codemirror_mode": {
    "name": "ipython",
    "version": 3
   },
   "file_extension": ".py",
   "mimetype": "text/x-python",
   "name": "python",
   "nbconvert_exporter": "python",
   "pygments_lexer": "ipython3",
   "version": "3.11.7"
  }
 },
 "nbformat": 4,
 "nbformat_minor": 5
}
